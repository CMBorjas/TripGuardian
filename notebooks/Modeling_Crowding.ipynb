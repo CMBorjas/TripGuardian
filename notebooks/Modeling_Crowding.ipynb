{
 "cells": [
  {
   "cell_type": "markdown",
   "id": "419a188a",
   "metadata": {},
   "source": [
    "# Crowd modeling"
   ]
  },
  {
   "cell_type": "markdown",
   "id": "d7408774",
   "metadata": {},
   "source": [
    "## Imports "
   ]
  },
  {
   "cell_type": "code",
   "execution_count": 1,
   "id": "cffc871b",
   "metadata": {},
   "outputs": [],
   "source": [
    "import sys\n",
    "import os\n",
    "sys.path.append(os.path.abspath(\"..\"))  # Go up one directory to see src/\n",
    "import pandas as pd\n",
    "from src.crowd_predictor import prepare_data, train_model, evaluate_model, save_model\n"
   ]
  },
  {
   "cell_type": "markdown",
   "id": "e5835b27",
   "metadata": {},
   "source": [
    "## load ridehship data"
   ]
  },
  {
   "cell_type": "markdown",
   "id": "630324e2",
   "metadata": {},
   "source": [
    "df = pd.DataFrame({\n",
    "    \"route_id\": [\"15L\", \"15L\", \"1\", \"0\", \"15L\", \"1\", \"0\"],\n",
    "    \"hour_of_day\": [7, 17, 9, 14, 18, 8, 20],\n",
    "    \"day_of_week\": [\"Monday\", \"Monday\", \"Tuesday\", \"Wednesday\", \"Friday\", \"Monday\", \"Sunday\"],\n",
    "    \"crowdedness\": [\"High\", \"High\", \"Medium\", \"Low\", \"Medium\", \"Medium\", \"Low\"]\n",
    "})"
   ]
  },
  {
   "cell_type": "markdown",
   "id": "17f56a03",
   "metadata": {},
   "source": [
    "## train"
   ]
  },
  {
   "cell_type": "code",
   "execution_count": null,
   "id": "31c03d79",
   "metadata": {},
   "outputs": [],
   "source": [
    "X_train, X_test, y_train, y_test = prepare_data(df)\n",
    "model = train_model(X_train, y_train)\n",
    "evaluate_model(model, X_test, y_test)\n",
    "save_model(model)"
   ]
  }
 ],
 "metadata": {
  "kernelspec": {
   "display_name": "venv",
   "language": "python",
   "name": "python3"
  },
  "language_info": {
   "codemirror_mode": {
    "name": "ipython",
    "version": 3
   },
   "file_extension": ".py",
   "mimetype": "text/x-python",
   "name": "python",
   "nbconvert_exporter": "python",
   "pygments_lexer": "ipython3",
   "version": "3.12.4"
  }
 },
 "nbformat": 4,
 "nbformat_minor": 5
}
