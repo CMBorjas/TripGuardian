{
 "cells": [
  {
   "cell_type": "markdown",
   "id": "4463aabe",
   "metadata": {},
   "source": [
    "# EDA Crime Stops.ipynb"
   ]
  },
  {
   "cell_type": "markdown",
   "id": "2f184cf8",
   "metadata": {},
   "source": [
    "## 1.1 Imports"
   ]
  },
  {
   "cell_type": "code",
   "execution_count": 1,
   "id": "fddb8050",
   "metadata": {},
   "outputs": [],
   "source": [
    "import pandas as pd\n",
    "import folium\n",
    "from folium.plugins import MarkerCluster\n",
    "from IPython.display import display\n",
    "import matplotlib.pyplot as plt\n",
    "import seaborn as sns"
   ]
  },
  {
   "cell_type": "markdown",
   "id": "d1ee4ffc",
   "metadata": {},
   "source": [
    "## 2.0 Load Data"
   ]
  },
  {
   "cell_type": "markdown",
   "id": "c1975d71",
   "metadata": {},
   "source": [
    "### 2.1 - Load GTFS stops"
   ]
  },
  {
   "cell_type": "code",
   "execution_count": 2,
   "id": "4a6b5f0f",
   "metadata": {},
   "outputs": [],
   "source": [
    "stops = pd.read_csv(\"../data/google_transit/stops.txt\")\n",
    "stops = stops[['stop_id', 'stop_name', 'stop_lat', 'stop_lon']].dropna()"
   ]
  },
  {
   "cell_type": "markdown",
   "id": "721ada41",
   "metadata": {},
   "source": [
    "### 2.2 - Load Crime Dataset"
   ]
  },
  {
   "cell_type": "code",
   "execution_count": 3,
   "id": "dcd242f8",
   "metadata": {},
   "outputs": [],
   "source": [
    "crime = pd.read_csv(\"../data/ODC_CRIME_OFFENSES_P_-3254178225590307312.csv\")\n",
    "crime = crime[['GEO_LAT', 'GEO_LON', 'OFFENSE_TYPE_ID', 'OFFENSE_CATEGORY_ID', 'REPORTED_DATE']].dropna()"
   ]
  },
  {
   "cell_type": "markdown",
   "id": "f32acb45",
   "metadata": {},
   "source": [
    "## Step 3: Preview the Data"
   ]
  },
  {
   "cell_type": "markdown",
   "id": "863c8ca9",
   "metadata": {},
   "source": [
    "### 3.1 - Quick info"
   ]
  },
  {
   "cell_type": "code",
   "execution_count": 4,
   "id": "6d00d76b",
   "metadata": {},
   "outputs": [
    {
     "name": "stdout",
     "output_type": "stream",
     "text": [
      "Stops:\n"
     ]
    },
    {
     "data": {
      "text/html": [
       "<div>\n",
       "<style scoped>\n",
       "    .dataframe tbody tr th:only-of-type {\n",
       "        vertical-align: middle;\n",
       "    }\n",
       "\n",
       "    .dataframe tbody tr th {\n",
       "        vertical-align: top;\n",
       "    }\n",
       "\n",
       "    .dataframe thead th {\n",
       "        text-align: right;\n",
       "    }\n",
       "</style>\n",
       "<table border=\"1\" class=\"dataframe\">\n",
       "  <thead>\n",
       "    <tr style=\"text-align: right;\">\n",
       "      <th></th>\n",
       "      <th>stop_id</th>\n",
       "      <th>stop_name</th>\n",
       "      <th>stop_lat</th>\n",
       "      <th>stop_lon</th>\n",
       "    </tr>\n",
       "  </thead>\n",
       "  <tbody>\n",
       "    <tr>\n",
       "      <th>0</th>\n",
       "      <td>19074</td>\n",
       "      <td>Arapahoe at Village Center Station Gate A</td>\n",
       "      <td>39.600876</td>\n",
       "      <td>-104.887187</td>\n",
       "    </tr>\n",
       "    <tr>\n",
       "      <th>1</th>\n",
       "      <td>26109</td>\n",
       "      <td>Wagon Road PnR Gate B</td>\n",
       "      <td>39.912258</td>\n",
       "      <td>-104.994002</td>\n",
       "    </tr>\n",
       "    <tr>\n",
       "      <th>2</th>\n",
       "      <td>26174</td>\n",
       "      <td>Englewood Station Gate B</td>\n",
       "      <td>39.655319</td>\n",
       "      <td>-104.999591</td>\n",
       "    </tr>\n",
       "    <tr>\n",
       "      <th>3</th>\n",
       "      <td>33290</td>\n",
       "      <td>S Federal Blvd &amp; W Evans Ave Gate E</td>\n",
       "      <td>39.677222</td>\n",
       "      <td>-105.025247</td>\n",
       "    </tr>\n",
       "    <tr>\n",
       "      <th>4</th>\n",
       "      <td>33788</td>\n",
       "      <td>39th St / Table Mesa</td>\n",
       "      <td>39.985522</td>\n",
       "      <td>-105.248455</td>\n",
       "    </tr>\n",
       "  </tbody>\n",
       "</table>\n",
       "</div>"
      ],
      "text/plain": [
       "   stop_id                                  stop_name   stop_lat    stop_lon\n",
       "0    19074  Arapahoe at Village Center Station Gate A  39.600876 -104.887187\n",
       "1    26109                      Wagon Road PnR Gate B  39.912258 -104.994002\n",
       "2    26174                   Englewood Station Gate B  39.655319 -104.999591\n",
       "3    33290        S Federal Blvd & W Evans Ave Gate E  39.677222 -105.025247\n",
       "4    33788                       39th St / Table Mesa  39.985522 -105.248455"
      ]
     },
     "metadata": {},
     "output_type": "display_data"
    },
    {
     "name": "stdout",
     "output_type": "stream",
     "text": [
      "Crime:\n"
     ]
    },
    {
     "data": {
      "text/html": [
       "<div>\n",
       "<style scoped>\n",
       "    .dataframe tbody tr th:only-of-type {\n",
       "        vertical-align: middle;\n",
       "    }\n",
       "\n",
       "    .dataframe tbody tr th {\n",
       "        vertical-align: top;\n",
       "    }\n",
       "\n",
       "    .dataframe thead th {\n",
       "        text-align: right;\n",
       "    }\n",
       "</style>\n",
       "<table border=\"1\" class=\"dataframe\">\n",
       "  <thead>\n",
       "    <tr style=\"text-align: right;\">\n",
       "      <th></th>\n",
       "      <th>GEO_LAT</th>\n",
       "      <th>GEO_LON</th>\n",
       "      <th>OFFENSE_TYPE_ID</th>\n",
       "      <th>OFFENSE_CATEGORY_ID</th>\n",
       "      <th>REPORTED_DATE</th>\n",
       "    </tr>\n",
       "  </thead>\n",
       "  <tbody>\n",
       "    <tr>\n",
       "      <th>0</th>\n",
       "      <td>39.797827</td>\n",
       "      <td>-104.801111</td>\n",
       "      <td>criminal-mischief-other</td>\n",
       "      <td>public-disorder</td>\n",
       "      <td>7/28/2020 5:09:00 AM</td>\n",
       "    </tr>\n",
       "    <tr>\n",
       "      <th>1</th>\n",
       "      <td>39.654774</td>\n",
       "      <td>-104.905807</td>\n",
       "      <td>criminal-mischief-other</td>\n",
       "      <td>public-disorder</td>\n",
       "      <td>10/14/2020 10:20:00 PM</td>\n",
       "    </tr>\n",
       "    <tr>\n",
       "      <th>2</th>\n",
       "      <td>39.691784</td>\n",
       "      <td>-105.027614</td>\n",
       "      <td>criminal-mischief-other</td>\n",
       "      <td>public-disorder</td>\n",
       "      <td>1/8/2022 7:01:00 AM</td>\n",
       "    </tr>\n",
       "    <tr>\n",
       "      <th>3</th>\n",
       "      <td>39.751335</td>\n",
       "      <td>-105.025019</td>\n",
       "      <td>criminal-mischief-other</td>\n",
       "      <td>public-disorder</td>\n",
       "      <td>3/20/2021 7:38:00 AM</td>\n",
       "    </tr>\n",
       "    <tr>\n",
       "      <th>4</th>\n",
       "      <td>39.740860</td>\n",
       "      <td>-105.001965</td>\n",
       "      <td>criminal-mischief-other</td>\n",
       "      <td>public-disorder</td>\n",
       "      <td>8/4/2020 11:28:00 PM</td>\n",
       "    </tr>\n",
       "  </tbody>\n",
       "</table>\n",
       "</div>"
      ],
      "text/plain": [
       "     GEO_LAT     GEO_LON          OFFENSE_TYPE_ID OFFENSE_CATEGORY_ID  \\\n",
       "0  39.797827 -104.801111  criminal-mischief-other     public-disorder   \n",
       "1  39.654774 -104.905807  criminal-mischief-other     public-disorder   \n",
       "2  39.691784 -105.027614  criminal-mischief-other     public-disorder   \n",
       "3  39.751335 -105.025019  criminal-mischief-other     public-disorder   \n",
       "4  39.740860 -105.001965  criminal-mischief-other     public-disorder   \n",
       "\n",
       "            REPORTED_DATE  \n",
       "0    7/28/2020 5:09:00 AM  \n",
       "1  10/14/2020 10:20:00 PM  \n",
       "2     1/8/2022 7:01:00 AM  \n",
       "3    3/20/2021 7:38:00 AM  \n",
       "4    8/4/2020 11:28:00 PM  "
      ]
     },
     "metadata": {},
     "output_type": "display_data"
    }
   ],
   "source": [
    "print(\"Stops:\")\n",
    "display(stops.head())\n",
    "print(\"Crime:\")\n",
    "display(crime.head())"
   ]
  },
  {
   "cell_type": "markdown",
   "id": "5d51b615",
   "metadata": {},
   "source": [
    "### 3.2 - Null check"
   ]
  },
  {
   "cell_type": "code",
   "execution_count": 5,
   "id": "9c9c6e76",
   "metadata": {},
   "outputs": [
    {
     "name": "stdout",
     "output_type": "stream",
     "text": [
      "Nulls in stops:\n",
      "stop_id      0\n",
      "stop_name    0\n",
      "stop_lat     0\n",
      "stop_lon     0\n",
      "dtype: int64\n",
      "Nulls in crime:\n",
      "GEO_LAT                0\n",
      "GEO_LON                0\n",
      "OFFENSE_TYPE_ID        0\n",
      "OFFENSE_CATEGORY_ID    0\n",
      "REPORTED_DATE          0\n",
      "dtype: int64\n"
     ]
    }
   ],
   "source": [
    "print(\"Nulls in stops:\")\n",
    "print(stops.isnull().sum())\n",
    "print(\"Nulls in crime:\")\n",
    "print(crime.isnull().sum())"
   ]
  },
  {
   "cell_type": "markdown",
   "id": "fb844138",
   "metadata": {},
   "source": [
    "## Step 4: Visualize Crime Frequency by Type"
   ]
  },
  {
   "cell_type": "markdown",
   "id": "2fdd46b9",
   "metadata": {},
   "source": [
    "### 4.1 - Top 10 Crime Types"
   ]
  },
  {
   "cell_type": "code",
   "execution_count": 6,
   "id": "2afefb16",
   "metadata": {},
   "outputs": [
    {
     "data": {
      "image/png": "[encoded data removed]",
      "text/plain": [
       "<Figure size 1200x600 with 1 Axes>"
      ]
     },
     "metadata": {},
     "output_type": "display_data"
    }
   ],
   "source": [
    "plt.figure(figsize=(12, 6))\n",
    "sns.countplot(y='OFFENSE_CATEGORY_ID', data=crime, order=crime['OFFENSE_CATEGORY_ID'].value_counts().head(10).index)\n",
    "plt.title(\"Top 10 Reported Crime Categories\")\n",
    "plt.xlabel(\"Count\")\n",
    "plt.ylabel(\"Crime Category\")\n",
    "plt.show()"
   ]
  },
  {
   "cell_type": "markdown",
   "id": "756b6c70",
   "metadata": {},
   "source": [
    "## Step 5: Map the Bus Stops and Crime Incidents (Folium)"
   ]
  },
  {
   "cell_type": "markdown",
   "id": "de82ca88",
   "metadata": {},
   "source": [
    "### 5.1 - Setup base map"
   ]
  },
  {
   "cell_type": "code",
   "execution_count": 7,
   "id": "ec6bccc3",
   "metadata": {},
   "outputs": [
    {
     "data": {
      "text/html": [
       "\n",
       "        <iframe\n",
       "            width=\"800\"\n",
       "            height=\"600\"\n",
       "            src=\"crime_bus_stops_map.html\"\n",
       "            frameborder=\"0\"\n",
       "            allowfullscreen\n",
       "            \n",
       "        ></iframe>\n",
       "        "
      ],
      "text/plain": [
       "<IPython.lib.display.IFrame at 0x1c1a26ed430>"
      ]
     },
     "execution_count": 7,
     "metadata": {},
     "output_type": "execute_result"
    }
   ],
   "source": [
    "\n",
    "import folium\n",
    "from folium.plugins import MarkerCluster\n",
    "from IPython.display import IFrame\n",
    "\n",
    "# Generate the base map centered at Denver\n",
    "denver_map = folium.Map(location=[39.7392, -104.9903], zoom_start=12)\n",
    "\n",
    "# Create marker cluster\n",
    "crime_cluster = MarkerCluster().add_to(denver_map)\n",
    "\n",
    "# Example data for demonstration\n",
    "crime_data = pd.DataFrame({\n",
    "    'LAT': [39.7392, 39.7400],\n",
    "    'LON': [-104.9903, -104.9910],\n",
    "    'OFFENSE_CATEGORY_ID': ['Assault', 'Theft']\n",
    "})\n",
    "\n",
    "# Adding markers to the map\n",
    "for index, row in crime_data.iterrows():\n",
    "    folium.CircleMarker(\n",
    "        location=(row['LAT'], row['LON']),\n",
    "        radius=8,\n",
    "        color='blue',\n",
    "        fill=True,\n",
    "        fill_color='blue',\n",
    "        fill_opacity=0.4,\n",
    "        tooltip=row['OFFENSE_CATEGORY_ID']\n",
    "    ).add_to(crime_cluster)\n",
    "\n",
    "# Add layer control\n",
    "folium.LayerControl().add_to(denver_map)\n",
    "\n",
    "# Save the map as HTML\n",
    "denver_map.save('crime_bus_stops_map.html')\n",
    "\n",
    "# Display the map inline in the notebook\n",
    "IFrame('crime_bus_stops_map.html', width=800, height=600)\n"
   ]
  },
  {
   "cell_type": "markdown",
   "id": "5a261b0c",
   "metadata": {},
   "source": [
    "### 5.2 - Add clustered bus stops"
   ]
  },
  {
   "cell_type": "code",
   "execution_count": 8,
   "id": "6b464c58",
   "metadata": {},
   "outputs": [
    {
     "data": {
      "text/html": [
       "\n",
       "        <iframe\n",
       "            width=\"800\"\n",
       "            height=\"600\"\n",
       "            src=\"crime_bus_stops_map.html\"\n",
       "            frameborder=\"0\"\n",
       "            allowfullscreen\n",
       "            \n",
       "        ></iframe>\n",
       "        "
      ],
      "text/plain": [
       "<IPython.lib.display.IFrame at 0x1c1a4188650>"
      ]
     },
     "execution_count": 8,
     "metadata": {},
     "output_type": "execute_result"
    }
   ],
   "source": [
    "\n",
    "import folium\n",
    "from folium.plugins import MarkerCluster\n",
    "from IPython.display import IFrame\n",
    "\n",
    "# Generate the base map centered at Denver\n",
    "denver_map = folium.Map(location=[39.7392, -104.9903], zoom_start=12)\n",
    "\n",
    "# Create marker cluster\n",
    "crime_cluster = MarkerCluster().add_to(denver_map)\n",
    "\n",
    "# Example data for demonstration\n",
    "crime_data = pd.DataFrame({\n",
    "    'LAT': [39.7392, 39.7400],\n",
    "    'LON': [-104.9903, -104.9910],\n",
    "    'OFFENSE_CATEGORY_ID': ['Assault', 'Theft']\n",
    "})\n",
    "\n",
    "# Adding markers to the map\n",
    "for index, row in crime_data.iterrows():\n",
    "    folium.CircleMarker(\n",
    "        location=(row['LAT'], row['LON']),\n",
    "        radius=8,\n",
    "        color='blue',\n",
    "        fill=True,\n",
    "        fill_color='blue',\n",
    "        fill_opacity=0.4,\n",
    "        tooltip=row['OFFENSE_CATEGORY_ID']\n",
    "    ).add_to(crime_cluster)\n",
    "\n",
    "# Add layer control\n",
    "folium.LayerControl().add_to(denver_map)\n",
    "\n",
    "# Save the map as HTML\n",
    "denver_map.save('crime_bus_stops_map.html')\n",
    "\n",
    "# Display the map inline in the notebook\n",
    "IFrame('crime_bus_stops_map.html', width=800, height=600)\n"
   ]
  },
  {
   "cell_type": "markdown",
   "id": "d50e9ae7",
   "metadata": {},
   "source": [
    "### 5.3 - Add clustered crime points"
   ]
  },
  {
   "cell_type": "code",
   "execution_count": 9,
   "id": "38b5c8eb",
   "metadata": {},
   "outputs": [
    {
     "data": {
      "text/html": [
       "\n",
       "        <iframe\n",
       "            width=\"800\"\n",
       "            height=\"600\"\n",
       "            src=\"crime_bus_stops_map.html\"\n",
       "            frameborder=\"0\"\n",
       "            allowfullscreen\n",
       "            \n",
       "        ></iframe>\n",
       "        "
      ],
      "text/plain": [
       "<IPython.lib.display.IFrame at 0x1c1a5d34b00>"
      ]
     },
     "execution_count": 9,
     "metadata": {},
     "output_type": "execute_result"
    }
   ],
   "source": [
    "\n",
    "import folium\n",
    "from folium.plugins import MarkerCluster\n",
    "from IPython.display import IFrame\n",
    "\n",
    "# Generate the base map centered at Denver\n",
    "denver_map = folium.Map(location=[39.7392, -104.9903], zoom_start=12)\n",
    "\n",
    "# Create marker cluster\n",
    "crime_cluster = MarkerCluster().add_to(denver_map)\n",
    "\n",
    "# Example data for demonstration\n",
    "crime_data = pd.DataFrame({\n",
    "    'LAT': [39.7392, 39.7400],\n",
    "    'LON': [-104.9903, -104.9910],\n",
    "    'OFFENSE_CATEGORY_ID': ['Assault', 'Theft']\n",
    "})\n",
    "\n",
    "# Adding markers to the map\n",
    "for index, row in crime_data.iterrows():\n",
    "    folium.CircleMarker(\n",
    "        location=(row['LAT'], row['LON']),\n",
    "        radius=8,\n",
    "        color='blue',\n",
    "        fill=True,\n",
    "        fill_color='blue',\n",
    "        fill_opacity=0.4,\n",
    "        tooltip=row['OFFENSE_CATEGORY_ID']\n",
    "    ).add_to(crime_cluster)\n",
    "\n",
    "# Add layer control\n",
    "folium.LayerControl().add_to(denver_map)\n",
    "\n",
    "# Save the map as HTML\n",
    "denver_map.save('crime_bus_stops_map.html')\n",
    "\n",
    "# Display the map inline in the notebook\n",
    "IFrame('crime_bus_stops_map.html', width=800, height=600)\n"
   ]
  },
  {
   "cell_type": "markdown",
   "id": "f78e9bf5",
   "metadata": {},
   "source": [
    "### 5.4 - Display map"
   ]
  },
  {
   "cell_type": "code",
   "execution_count": 10,
   "id": "71ec5ea3",
   "metadata": {},
   "outputs": [
    {
     "data": {
      "text/html": [
       "\n",
       "        <iframe\n",
       "            width=\"800\"\n",
       "            height=\"600\"\n",
       "            src=\"crime_bus_stops_map.html\"\n",
       "            frameborder=\"0\"\n",
       "            allowfullscreen\n",
       "            \n",
       "        ></iframe>\n",
       "        "
      ],
      "text/plain": [
       "<IPython.lib.display.IFrame at 0x1c1a5d08320>"
      ]
     },
     "execution_count": 10,
     "metadata": {},
     "output_type": "execute_result"
    }
   ],
   "source": [
    "\n",
    "import folium\n",
    "from folium.plugins import MarkerCluster\n",
    "from IPython.display import IFrame\n",
    "\n",
    "# Generate the base map centered at Denver\n",
    "denver_map = folium.Map(location=[39.7392, -104.9903], zoom_start=12)\n",
    "\n",
    "# Create marker cluster\n",
    "crime_cluster = MarkerCluster().add_to(denver_map)\n",
    "\n",
    "# Example data for demonstration\n",
    "crime_data = pd.DataFrame({\n",
    "    'LAT': [39.7392, 39.7400],\n",
    "    'LON': [-104.9903, -104.9910],\n",
    "    'OFFENSE_CATEGORY_ID': ['Assault', 'Theft']\n",
    "})\n",
    "\n",
    "# Adding markers to the map\n",
    "for index, row in crime_data.iterrows():\n",
    "    folium.CircleMarker(\n",
    "        location=(row['LAT'], row['LON']),\n",
    "        radius=8,\n",
    "        color='blue',\n",
    "        fill=True,\n",
    "        fill_color='blue',\n",
    "        fill_opacity=0.4,\n",
    "        tooltip=row['OFFENSE_CATEGORY_ID']\n",
    "    ).add_to(crime_cluster)\n",
    "\n",
    "# Add layer control\n",
    "folium.LayerControl().add_to(denver_map)\n",
    "\n",
    "# Save the map as HTML\n",
    "denver_map.save('crime_bus_stops_map.html')\n",
    "\n",
    "# Display the map inline in the notebook\n",
    "IFrame('crime_bus_stops_map.html', width=800, height=600)\n"
   ]
  },
  {
   "cell_type": "markdown",
   "id": "f3cbe551",
   "metadata": {},
   "source": [
    "## Summary:\n",
    "\n",
    "- Which neighborhoods have the most incidents?\n",
    "- Are crimes clustered around major stop areas?\n",
    "- What are the most common types of crimes?\n",
    "- Which stops appear to have high density of incidents nearby?\n",
    "\n",
    "This insight will drive our maintenance risk scoring model in the next notebook.\n"
   ]
  }
 ],
 "metadata": {
  "kernelspec": {
   "display_name": "venv",
   "language": "python",
   "name": "python3"
  },
  "language_info": {
   "codemirror_mode": {
    "name": "ipython",
    "version": 3
   },
   "file_extension": ".py",
   "mimetype": "text/x-python",
   "name": "python",
   "nbconvert_exporter": "python",
   "pygments_lexer": "ipython3",
   "version": "3.12.4"
  }
 },
 "nbformat": 4,
 "nbformat_minor": 5
}
