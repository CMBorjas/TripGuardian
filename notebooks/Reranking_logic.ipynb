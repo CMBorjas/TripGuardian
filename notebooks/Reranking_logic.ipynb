{
 "cells": [
  {
   "cell_type": "markdown",
   "id": "450c331f",
   "metadata": {},
   "source": [
    "# Reranking file"
   ]
  },
  {
   "cell_type": "markdown",
   "id": "4a11d801",
   "metadata": {},
   "source": [
    "## Imports"
   ]
  },
  {
   "cell_type": "code",
   "execution_count": null,
   "id": "20035a93",
   "metadata": {},
   "outputs": [],
   "source": [
    "from src.route_finder import RouteFinder"
   ]
  }
 ],
 "metadata": {
  "kernelspec": {
   "display_name": "venv",
   "language": "python",
   "name": "python3"
  },
  "language_info": {
   "name": "python",
   "version": "3.12.4"
  }
 },
 "nbformat": 4,
 "nbformat_minor": 5
}
