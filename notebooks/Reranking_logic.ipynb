{
 "cells": [
  {
   "cell_type": "markdown",
   "id": "450c331f",
   "metadata": {},
   "source": [
    "# 1.0 Reranking file"
   ]
  },
  {
   "cell_type": "markdown",
   "id": "4a11d801",
   "metadata": {},
   "source": [
    "## 1.1 Libray imports"
   ]
  },
  {
   "cell_type": "code",
   "execution_count": 5,
   "id": "20035a93",
   "metadata": {},
   "outputs": [],
   "source": [
    "import sys\n",
    "import os\n",
    "\n",
    "# Go up one directory to access /src\n",
    "sys.path.append(os.path.abspath(\"..\"))\n",
    "import pandas as pd\n",
    "import nest_asyncio\n",
    "import asyncio\n",
    "\n",
    "from datetime import datetime"
   ]
  },
  {
   "cell_type": "markdown",
   "id": "676fab3e",
   "metadata": {},
   "source": [
    "### 1.2 Import files"
   ]
  },
  {
   "cell_type": "code",
   "execution_count": 6,
   "id": "e5e26be4",
   "metadata": {},
   "outputs": [],
   "source": [
    "from src.reranker import rerank_routes\n",
    "from src.route_finder import find_routes\n",
    "from src.crowd_predictor import load_model, predict_crowdedness\n",
    "from src.summarizer import generate_trip_summary\n",
    "from src.weather import get_current_weather\n",
    "from src.user_input_planner import plan_trip\n",
    "from src.alerts_dynamic import get_alerts_for_stop_async\n",
    "\n",
    "nest_asyncio.apply()"
   ]
  },
  {
   "cell_type": "markdown",
   "id": "dccc10f7",
   "metadata": {},
   "source": [
    "## 2.1 Graph simulation of routes"
   ]
  },
  {
   "cell_type": "code",
   "execution_count": 7,
   "id": "85d01564",
   "metadata": {},
   "outputs": [],
   "source": [
    "graph = {\n",
    "    \"15L\": [\"A\",\"B\",\"C\",\"D\",\"E\"],\n",
    "    \"0\": [\"F\",\"C\",\"G\"],\n",
    "    \"1\": [\"H\",\"I\",\"J\",\"E\"],\n",
    "}"
   ]
  },
  {
   "cell_type": "markdown",
   "id": "e9144113",
   "metadata": {},
   "source": [
    "## 2.2 Find routes"
   ]
  },
  {
   "cell_type": "code",
   "execution_count": 8,
   "id": "5fbb0501",
   "metadata": {},
   "outputs": [],
   "source": [
    "candidates = find_routes(\"B\",\"E\", graph)"
   ]
  },
  {
   "cell_type": "markdown",
   "id": "0620041e",
   "metadata": {},
   "source": [
    "## 2.3 Mock crowd, delay, and safety scores"
   ]
  },
  {
   "cell_type": "code",
   "execution_count": 9,
   "id": "b70a379b",
   "metadata": {},
   "outputs": [],
   "source": [
    "for c in candidates:\n",
    "    c[\"walk_time\"] = 5\n",
    "    c[\"delay_minutes\"] = 4\n",
    "    c[\"crowdedness_score\"] = 30 # mock\n",
    "    c[\"safety_score\"] = 70 # mock"
   ]
  },
  {
   "cell_type": "markdown",
   "id": "1aa48308",
   "metadata": {},
   "source": [
    "## 2.4 Turn into Data frame for reranking"
   ]
  },
  {
   "cell_type": "code",
   "execution_count": 10,
   "id": "818caae2",
   "metadata": {},
   "outputs": [],
   "source": [
    "df = pd.DataFrame(candidates)"
   ]
  },
  {
   "cell_type": "markdown",
   "id": "56940bab",
   "metadata": {},
   "source": [
    "## 3.0 Score and sort the results"
   ]
  },
  {
   "cell_type": "code",
   "execution_count": 11,
   "id": "8722bc9a",
   "metadata": {},
   "outputs": [],
   "source": [
    "reranked = rerank_routes(df)"
   ]
  },
  {
   "cell_type": "markdown",
   "id": "14af514d",
   "metadata": {},
   "source": [
    "## 4.0 Display"
   ]
  },
  {
   "cell_type": "code",
   "execution_count": 12,
   "id": "1669af62",
   "metadata": {},
   "outputs": [
    {
     "data": {
      "text/html": [
       "<div>\n",
       "<style scoped>\n",
       "    .dataframe tbody tr th:only-of-type {\n",
       "        vertical-align: middle;\n",
       "    }\n",
       "\n",
       "    .dataframe tbody tr th {\n",
       "        vertical-align: top;\n",
       "    }\n",
       "\n",
       "    .dataframe thead th {\n",
       "        text-align: right;\n",
       "    }\n",
       "</style>\n",
       "<table border=\"1\" class=\"dataframe\">\n",
       "  <thead>\n",
       "    <tr style=\"text-align: right;\">\n",
       "      <th></th>\n",
       "      <th>route_id</th>\n",
       "      <th>origin</th>\n",
       "      <th>destination</th>\n",
       "      <th>stops</th>\n",
       "      <th>bus_time</th>\n",
       "      <th>walk_time</th>\n",
       "      <th>delay_minutes</th>\n",
       "      <th>crowdedness_score</th>\n",
       "      <th>safety_score</th>\n",
       "      <th>total_score</th>\n",
       "    </tr>\n",
       "  </thead>\n",
       "  <tbody>\n",
       "    <tr>\n",
       "      <th>0</th>\n",
       "      <td>15L</td>\n",
       "      <td>B</td>\n",
       "      <td>E</td>\n",
       "      <td>[B, C, D, E]</td>\n",
       "      <td>12</td>\n",
       "      <td>5</td>\n",
       "      <td>4</td>\n",
       "      <td>30</td>\n",
       "      <td>70</td>\n",
       "      <td>18.5</td>\n",
       "    </tr>\n",
       "  </tbody>\n",
       "</table>\n",
       "</div>"
      ],
      "text/plain": [
       "  route_id origin destination         stops  bus_time  walk_time  \\\n",
       "0      15L      B           E  [B, C, D, E]        12          5   \n",
       "\n",
       "   delay_minutes  crowdedness_score  safety_score  total_score  \n",
       "0              4                 30            70         18.5  "
      ]
     },
     "metadata": {},
     "output_type": "display_data"
    }
   ],
   "source": [
    "display(reranked)"
   ]
  },
  {
   "cell_type": "code",
   "execution_count": 13,
   "id": "a2eb75f4",
   "metadata": {},
   "outputs": [],
   "source": [
    "model = load_model(\"models/crowd_model.pkl\")"
   ]
  },
  {
   "cell_type": "markdown",
   "id": "9186005c",
   "metadata": {},
   "source": [
    "## 5.0 Assume 'df' contains route_id, hour_of_day, day_of_week"
   ]
  },
  {
   "cell_type": "code",
   "execution_count": 14,
   "id": "1ba96730",
   "metadata": {},
   "outputs": [],
   "source": [
    "df[\"hour_of_day\"] = 17\n",
    "df[\"day_of_week\"] = \"Monday\""
   ]
  },
  {
   "cell_type": "markdown",
   "id": "efd6ea0c",
   "metadata": {},
   "source": [
    "## 6.0 Predict crowdedness (returns 0==Low, 1==Medium, 2==High)"
   ]
  },
  {
   "cell_type": "code",
   "execution_count": 15,
   "id": "24a54128",
   "metadata": {},
   "outputs": [],
   "source": [
    "df[\"crowdedness_score\"] = predict_crowdedness(model, df)"
   ]
  },
  {
   "cell_type": "markdown",
   "id": "31ca26dc",
   "metadata": {},
   "source": [
    "### 7.0 Convert back to readable labels"
   ]
  },
  {
   "cell_type": "code",
   "execution_count": 16,
   "id": "ca6241f7",
   "metadata": {},
   "outputs": [],
   "source": [
    "label_map = {0: \"Low\", 1: \"Medium\", 2: \"High\"}\n",
    "df[\"crowdedness_label\"] = df[\"crowdedness_score\"].map(label_map)"
   ]
  },
  {
   "cell_type": "markdown",
   "id": "794528cf",
   "metadata": {},
   "source": [
    "## 8.0 Display top candidates"
   ]
  },
  {
   "cell_type": "code",
   "execution_count": 17,
   "id": "b0a97f18",
   "metadata": {},
   "outputs": [
    {
     "data": {
      "text/html": [
       "<div>\n",
       "<style scoped>\n",
       "    .dataframe tbody tr th:only-of-type {\n",
       "        vertical-align: middle;\n",
       "    }\n",
       "\n",
       "    .dataframe tbody tr th {\n",
       "        vertical-align: top;\n",
       "    }\n",
       "\n",
       "    .dataframe thead th {\n",
       "        text-align: right;\n",
       "    }\n",
       "</style>\n",
       "<table border=\"1\" class=\"dataframe\">\n",
       "  <thead>\n",
       "    <tr style=\"text-align: right;\">\n",
       "      <th></th>\n",
       "      <th>route_id</th>\n",
       "      <th>origin</th>\n",
       "      <th>destination</th>\n",
       "      <th>crowdedness_score</th>\n",
       "      <th>crowdedness_label</th>\n",
       "    </tr>\n",
       "  </thead>\n",
       "  <tbody>\n",
       "    <tr>\n",
       "      <th>0</th>\n",
       "      <td>15L</td>\n",
       "      <td>B</td>\n",
       "      <td>E</td>\n",
       "      <td>1</td>\n",
       "      <td>Medium</td>\n",
       "    </tr>\n",
       "  </tbody>\n",
       "</table>\n",
       "</div>"
      ],
      "text/plain": [
       "  route_id origin destination  crowdedness_score crowdedness_label\n",
       "0      15L      B           E                  1            Medium"
      ]
     },
     "metadata": {},
     "output_type": "display_data"
    }
   ],
   "source": [
    "display(df[[\"route_id\", \"origin\", \"destination\", \"crowdedness_score\", \"crowdedness_label\"]])"
   ]
  },
  {
   "cell_type": "markdown",
   "id": "00bf2cec",
   "metadata": {},
   "source": [
    "## 9.0 Mock trip planner"
   ]
  },
  {
   "cell_type": "code",
   "execution_count": 18,
   "id": "7cca354a",
   "metadata": {},
   "outputs": [],
   "source": [
    "trip = {\n",
    "    \"walk_time\": 5,\n",
    "    \"route_id\": \"15L\",\n",
    "    \"stop_name_start\": \"Blake & 14th\",\n",
    "    \"stop_name_end\": \"Decatur Station\",\n",
    "    \"departure_time\": \"7:14 PM\",\n",
    "    \"arrival_time\": \"7:38 PM\",\n",
    "    \"destination\": \"840 Irving Street\"\n",
    "}"
   ]
  },
  {
   "cell_type": "markdown",
   "id": "d7caa04d",
   "metadata": {},
   "source": [
    "## 10.0 Summarize the trip"
   ]
  },
  {
   "cell_type": "code",
   "execution_count": 19,
   "id": "1a19bfed",
   "metadata": {},
   "outputs": [
    {
     "name": "stdout",
     "output_type": "stream",
     "text": [
      "Walk 5 minutes to Blake & 14th. Take the 15L bus at 7:14 PM. Get off at Decatur Station. You’ll arrive at 840 Irving Street by 7:38 PM.\n"
     ]
    }
   ],
   "source": [
    "summary = generate_trip_summary(trip)\n",
    "print(summary)"
   ]
  },
  {
   "cell_type": "markdown",
   "id": "485a47a6",
   "metadata": {},
   "source": [
    "## 11. User defined trip details"
   ]
  },
  {
   "cell_type": "code",
   "execution_count": 20,
   "id": "befba35c",
   "metadata": {},
   "outputs": [],
   "source": [
    "user_start = \"B\"\n",
    "user_end = \"E\"\n",
    "user_time = datetime.strptime(\"2025-04-16 17:00\", \"%Y-%m-%d %H:%M\")"
   ]
  },
  {
   "cell_type": "markdown",
   "id": "5b1c19ab",
   "metadata": {},
   "source": [
    "## 11.1 Verify weather"
   ]
  },
  {
   "cell_type": "code",
   "execution_count": 21,
   "id": "32c9f55f",
   "metadata": {},
   "outputs": [
    {
     "name": "stdout",
     "output_type": "stream",
     "text": [
      "Current Weather: Clear\n"
     ]
    }
   ],
   "source": [
    "weather = get_current_weather(city=\"Denver\")\n",
    "print(\"Current Weather:\", weather)"
   ]
  },
  {
   "cell_type": "code",
   "execution_count": 23,
   "id": "5129e1d9",
   "metadata": {},
   "outputs": [
    {
     "name": "stderr",
     "output_type": "stream",
     "text": [
      "Task exception was never retrieved\n",
      "future: <Task finished name='Task-4' coro=<Connection.run() done, defined at c:\\Users\\Christian\\Desktop\\TripGuardian\\venv\\Lib\\site-packages\\playwright\\_impl\\_connection.py:272> exception=NotImplementedError()>\n",
      "Traceback (most recent call last):\n",
      "  File \"C:\\Users\\Christian\\anaconda3\\Lib\\asyncio\\tasks.py\", line 314, in __step_run_and_handle_result\n",
      "    result = coro.send(None)\n",
      "             ^^^^^^^^^^^^^^^\n",
      "  File \"c:\\Users\\Christian\\Desktop\\TripGuardian\\venv\\Lib\\site-packages\\playwright\\_impl\\_connection.py\", line 279, in run\n",
      "    await self._transport.connect()\n",
      "  File \"c:\\Users\\Christian\\Desktop\\TripGuardian\\venv\\Lib\\site-packages\\playwright\\_impl\\_transport.py\", line 133, in connect\n",
      "    raise exc\n",
      "  File \"c:\\Users\\Christian\\Desktop\\TripGuardian\\venv\\Lib\\site-packages\\playwright\\_impl\\_transport.py\", line 120, in connect\n",
      "    self._proc = await asyncio.create_subprocess_exec(\n",
      "                 ^^^^^^^^^^^^^^^^^^^^^^^^^^^^^^^^^^^^^\n",
      "  File \"C:\\Users\\Christian\\anaconda3\\Lib\\asyncio\\subprocess.py\", line 224, in create_subprocess_exec\n",
      "    transport, protocol = await loop.subprocess_exec(\n",
      "                          ^^^^^^^^^^^^^^^^^^^^^^^^^^^\n",
      "  File \"C:\\Users\\Christian\\anaconda3\\Lib\\asyncio\\base_events.py\", line 1744, in subprocess_exec\n",
      "    transport = await self._make_subprocess_transport(\n",
      "                ^^^^^^^^^^^^^^^^^^^^^^^^^^^^^^^^^^^^^^\n",
      "  File \"C:\\Users\\Christian\\anaconda3\\Lib\\asyncio\\base_events.py\", line 524, in _make_subprocess_transport\n",
      "    raise NotImplementedError\n",
      "NotImplementedError\n"
     ]
    },
    {
     "ename": "NotImplementedError",
     "evalue": "",
     "output_type": "error",
     "traceback": [
      "\u001b[31m---------------------------------------------------------------------------\u001b[39m",
      "\u001b[31mNotImplementedError\u001b[39m                       Traceback (most recent call last)",
      "\u001b[36mCell\u001b[39m\u001b[36m \u001b[39m\u001b[32mIn[23]\u001b[39m\u001b[32m, line 1\u001b[39m\n\u001b[32m----> \u001b[39m\u001b[32m1\u001b[39m alerts = \u001b[43masyncio\u001b[49m\u001b[43m.\u001b[49m\u001b[43mrun\u001b[49m\u001b[43m(\u001b[49m\u001b[43mget_alerts_for_stop_async\u001b[49m\u001b[43m(\u001b[49m\u001b[33;43m\"\u001b[39;49m\u001b[33;43mFlorida Station\u001b[39;49m\u001b[33;43m\"\u001b[39;49m\u001b[43m)\u001b[49m\u001b[43m)\u001b[49m\n\u001b[32m      2\u001b[39m \u001b[38;5;28;01mfor\u001b[39;00m alert \u001b[38;5;129;01min\u001b[39;00m alerts:\n\u001b[32m      3\u001b[39m     \u001b[38;5;28mprint\u001b[39m(\u001b[33m\"\u001b[39m\u001b[33m⚠️\u001b[39m\u001b[33m\"\u001b[39m, alert)\n",
      "\u001b[36mFile \u001b[39m\u001b[32mc:\\Users\\Christian\\Desktop\\TripGuardian\\venv\\Lib\\site-packages\\nest_asyncio.py:30\u001b[39m, in \u001b[36m_patch_asyncio.<locals>.run\u001b[39m\u001b[34m(main, debug)\u001b[39m\n\u001b[32m     28\u001b[39m task = asyncio.ensure_future(main)\n\u001b[32m     29\u001b[39m \u001b[38;5;28;01mtry\u001b[39;00m:\n\u001b[32m---> \u001b[39m\u001b[32m30\u001b[39m     \u001b[38;5;28;01mreturn\u001b[39;00m \u001b[43mloop\u001b[49m\u001b[43m.\u001b[49m\u001b[43mrun_until_complete\u001b[49m\u001b[43m(\u001b[49m\u001b[43mtask\u001b[49m\u001b[43m)\u001b[49m\n\u001b[32m     31\u001b[39m \u001b[38;5;28;01mfinally\u001b[39;00m:\n\u001b[32m     32\u001b[39m     \u001b[38;5;28;01mif\u001b[39;00m \u001b[38;5;129;01mnot\u001b[39;00m task.done():\n",
      "\u001b[36mFile \u001b[39m\u001b[32mc:\\Users\\Christian\\Desktop\\TripGuardian\\venv\\Lib\\site-packages\\nest_asyncio.py:98\u001b[39m, in \u001b[36m_patch_loop.<locals>.run_until_complete\u001b[39m\u001b[34m(self, future)\u001b[39m\n\u001b[32m     95\u001b[39m \u001b[38;5;28;01mif\u001b[39;00m \u001b[38;5;129;01mnot\u001b[39;00m f.done():\n\u001b[32m     96\u001b[39m     \u001b[38;5;28;01mraise\u001b[39;00m \u001b[38;5;167;01mRuntimeError\u001b[39;00m(\n\u001b[32m     97\u001b[39m         \u001b[33m'\u001b[39m\u001b[33mEvent loop stopped before Future completed.\u001b[39m\u001b[33m'\u001b[39m)\n\u001b[32m---> \u001b[39m\u001b[32m98\u001b[39m \u001b[38;5;28;01mreturn\u001b[39;00m \u001b[43mf\u001b[49m\u001b[43m.\u001b[49m\u001b[43mresult\u001b[49m\u001b[43m(\u001b[49m\u001b[43m)\u001b[49m\n",
      "\u001b[36mFile \u001b[39m\u001b[32m~\\anaconda3\\Lib\\asyncio\\futures.py:203\u001b[39m, in \u001b[36mFuture.result\u001b[39m\u001b[34m(self)\u001b[39m\n\u001b[32m    201\u001b[39m \u001b[38;5;28mself\u001b[39m.__log_traceback = \u001b[38;5;28;01mFalse\u001b[39;00m\n\u001b[32m    202\u001b[39m \u001b[38;5;28;01mif\u001b[39;00m \u001b[38;5;28mself\u001b[39m._exception \u001b[38;5;129;01mis\u001b[39;00m \u001b[38;5;129;01mnot\u001b[39;00m \u001b[38;5;28;01mNone\u001b[39;00m:\n\u001b[32m--> \u001b[39m\u001b[32m203\u001b[39m     \u001b[38;5;28;01mraise\u001b[39;00m \u001b[38;5;28mself\u001b[39m._exception.with_traceback(\u001b[38;5;28mself\u001b[39m._exception_tb)\n\u001b[32m    204\u001b[39m \u001b[38;5;28;01mreturn\u001b[39;00m \u001b[38;5;28mself\u001b[39m._result\n",
      "\u001b[36mFile \u001b[39m\u001b[32m~\\anaconda3\\Lib\\asyncio\\tasks.py:314\u001b[39m, in \u001b[36mTask.__step_run_and_handle_result\u001b[39m\u001b[34m(***failed resolving arguments***)\u001b[39m\n\u001b[32m    310\u001b[39m \u001b[38;5;28;01mtry\u001b[39;00m:\n\u001b[32m    311\u001b[39m     \u001b[38;5;28;01mif\u001b[39;00m exc \u001b[38;5;129;01mis\u001b[39;00m \u001b[38;5;28;01mNone\u001b[39;00m:\n\u001b[32m    312\u001b[39m         \u001b[38;5;66;03m# We use the `send` method directly, because coroutines\u001b[39;00m\n\u001b[32m    313\u001b[39m         \u001b[38;5;66;03m# don't have `__iter__` and `__next__` methods.\u001b[39;00m\n\u001b[32m--> \u001b[39m\u001b[32m314\u001b[39m         result = \u001b[43mcoro\u001b[49m\u001b[43m.\u001b[49m\u001b[43msend\u001b[49m\u001b[43m(\u001b[49m\u001b[38;5;28;43;01mNone\u001b[39;49;00m\u001b[43m)\u001b[49m\n\u001b[32m    315\u001b[39m     \u001b[38;5;28;01melse\u001b[39;00m:\n\u001b[32m    316\u001b[39m         result = coro.throw(exc)\n",
      "\u001b[36mFile \u001b[39m\u001b[32mc:\\Users\\Christian\\Desktop\\TripGuardian\\src\\alerts_dynamic.py:43\u001b[39m, in \u001b[36mget_alerts_for_stop_async\u001b[39m\u001b[34m(stop_name)\u001b[39m\n\u001b[32m     41\u001b[39m \u001b[38;5;28;01masync\u001b[39;00m \u001b[38;5;28;01mdef\u001b[39;00m\u001b[38;5;250m \u001b[39m\u001b[34mget_alerts_for_stop_async\u001b[39m(stop_name):\n\u001b[32m     42\u001b[39m     stop_name = stop_name.lower()\n\u001b[32m---> \u001b[39m\u001b[32m43\u001b[39m     alerts = \u001b[38;5;28;01mawait\u001b[39;00m get_facility_alerts_async()\n\u001b[32m     45\u001b[39m     \u001b[38;5;28;01mreturn\u001b[39;00m [\n\u001b[32m     46\u001b[39m         alert[\u001b[33m\"\u001b[39m\u001b[33mmessage\u001b[39m\u001b[33m\"\u001b[39m]\n\u001b[32m     47\u001b[39m         \u001b[38;5;28;01mfor\u001b[39;00m alert \u001b[38;5;129;01min\u001b[39;00m alerts\n\u001b[32m     48\u001b[39m         \u001b[38;5;28;01mif\u001b[39;00m stop_name \u001b[38;5;129;01min\u001b[39;00m alert[\u001b[33m\"\u001b[39m\u001b[33mlocation\u001b[39m\u001b[33m\"\u001b[39m].lower() \u001b[38;5;129;01mor\u001b[39;00m stop_name \u001b[38;5;129;01min\u001b[39;00m alert[\u001b[33m\"\u001b[39m\u001b[33mmessage\u001b[39m\u001b[33m\"\u001b[39m].lower()\n\u001b[32m     49\u001b[39m     ]\n",
      "\u001b[36mFile \u001b[39m\u001b[32mc:\\Users\\Christian\\Desktop\\TripGuardian\\src\\alerts_dynamic.py:6\u001b[39m, in \u001b[36mget_facility_alerts_async\u001b[39m\u001b[34m()\u001b[39m\n\u001b[32m      3\u001b[39m \u001b[38;5;28;01masync\u001b[39;00m \u001b[38;5;28;01mdef\u001b[39;00m\u001b[38;5;250m \u001b[39m\u001b[34mget_facility_alerts_async\u001b[39m():\n\u001b[32m      4\u001b[39m     alerts = []\n\u001b[32m----> \u001b[39m\u001b[32m6\u001b[39m     \u001b[38;5;28;01masync\u001b[39;00m \u001b[38;5;28;01mwith\u001b[39;00m async_playwright() \u001b[38;5;28;01mas\u001b[39;00m p:\n\u001b[32m      7\u001b[39m         browser = \u001b[38;5;28;01mawait\u001b[39;00m p.chromium.launch(headless=\u001b[38;5;28;01mTrue\u001b[39;00m)\n\u001b[32m      8\u001b[39m         page = \u001b[38;5;28;01mawait\u001b[39;00m browser.new_page()\n",
      "\u001b[36mFile \u001b[39m\u001b[32mc:\\Users\\Christian\\Desktop\\TripGuardian\\venv\\Lib\\site-packages\\playwright\\async_api\\_context_manager.py:46\u001b[39m, in \u001b[36mPlaywrightContextManager.__aenter__\u001b[39m\u001b[34m(self)\u001b[39m\n\u001b[32m     44\u001b[39m \u001b[38;5;28;01mif\u001b[39;00m \u001b[38;5;129;01mnot\u001b[39;00m playwright_future.done():\n\u001b[32m     45\u001b[39m     playwright_future.cancel()\n\u001b[32m---> \u001b[39m\u001b[32m46\u001b[39m playwright = AsyncPlaywright(\u001b[38;5;28;43mnext\u001b[39;49m\u001b[43m(\u001b[49m\u001b[38;5;28;43miter\u001b[39;49m\u001b[43m(\u001b[49m\u001b[43mdone\u001b[49m\u001b[43m)\u001b[49m\u001b[43m)\u001b[49m\u001b[43m.\u001b[49m\u001b[43mresult\u001b[49m\u001b[43m(\u001b[49m\u001b[43m)\u001b[49m)\n\u001b[32m     47\u001b[39m playwright.stop = \u001b[38;5;28mself\u001b[39m.\u001b[34m__aexit__\u001b[39m  \u001b[38;5;66;03m# type: ignore\u001b[39;00m\n\u001b[32m     48\u001b[39m \u001b[38;5;28;01mreturn\u001b[39;00m playwright\n",
      "\u001b[36mFile \u001b[39m\u001b[32m~\\anaconda3\\Lib\\asyncio\\futures.py:203\u001b[39m, in \u001b[36mFuture.result\u001b[39m\u001b[34m(self)\u001b[39m\n\u001b[32m    201\u001b[39m \u001b[38;5;28mself\u001b[39m.__log_traceback = \u001b[38;5;28;01mFalse\u001b[39;00m\n\u001b[32m    202\u001b[39m \u001b[38;5;28;01mif\u001b[39;00m \u001b[38;5;28mself\u001b[39m._exception \u001b[38;5;129;01mis\u001b[39;00m \u001b[38;5;129;01mnot\u001b[39;00m \u001b[38;5;28;01mNone\u001b[39;00m:\n\u001b[32m--> \u001b[39m\u001b[32m203\u001b[39m     \u001b[38;5;28;01mraise\u001b[39;00m \u001b[38;5;28mself\u001b[39m._exception.with_traceback(\u001b[38;5;28mself\u001b[39m._exception_tb)\n\u001b[32m    204\u001b[39m \u001b[38;5;28;01mreturn\u001b[39;00m \u001b[38;5;28mself\u001b[39m._result\n",
      "\u001b[36mFile \u001b[39m\u001b[32mc:\\Users\\Christian\\Desktop\\TripGuardian\\venv\\Lib\\site-packages\\playwright\\_impl\\_transport.py:120\u001b[39m, in \u001b[36mPipeTransport.connect\u001b[39m\u001b[34m(self)\u001b[39m\n\u001b[32m    117\u001b[39m         startupinfo.wShowWindow = subprocess.SW_HIDE\n\u001b[32m    119\u001b[39m     executable_path, entrypoint_path = compute_driver_executable()\n\u001b[32m--> \u001b[39m\u001b[32m120\u001b[39m     \u001b[38;5;28mself\u001b[39m._proc = \u001b[38;5;28;01mawait\u001b[39;00m asyncio.create_subprocess_exec(\n\u001b[32m    121\u001b[39m         executable_path,\n\u001b[32m    122\u001b[39m         entrypoint_path,\n\u001b[32m    123\u001b[39m         \u001b[33m\"\u001b[39m\u001b[33mrun-driver\u001b[39m\u001b[33m\"\u001b[39m,\n\u001b[32m    124\u001b[39m         stdin=asyncio.subprocess.PIPE,\n\u001b[32m    125\u001b[39m         stdout=asyncio.subprocess.PIPE,\n\u001b[32m    126\u001b[39m         stderr=_get_stderr_fileno(),\n\u001b[32m    127\u001b[39m         limit=\u001b[32m32768\u001b[39m,\n\u001b[32m    128\u001b[39m         env=env,\n\u001b[32m    129\u001b[39m         startupinfo=startupinfo,\n\u001b[32m    130\u001b[39m     )\n\u001b[32m    131\u001b[39m \u001b[38;5;28;01mexcept\u001b[39;00m \u001b[38;5;167;01mException\u001b[39;00m \u001b[38;5;28;01mas\u001b[39;00m exc:\n\u001b[32m    132\u001b[39m     \u001b[38;5;28mself\u001b[39m.on_error_future.set_exception(exc)\n",
      "\u001b[36mFile \u001b[39m\u001b[32m~\\anaconda3\\Lib\\asyncio\\subprocess.py:224\u001b[39m, in \u001b[36mcreate_subprocess_exec\u001b[39m\u001b[34m(program, stdin, stdout, stderr, limit, *args, **kwds)\u001b[39m\n\u001b[32m    221\u001b[39m loop = events.get_running_loop()\n\u001b[32m    222\u001b[39m protocol_factory = \u001b[38;5;28;01mlambda\u001b[39;00m: SubprocessStreamProtocol(limit=limit,\n\u001b[32m    223\u001b[39m                                                     loop=loop)\n\u001b[32m--> \u001b[39m\u001b[32m224\u001b[39m transport, protocol = \u001b[38;5;28;01mawait\u001b[39;00m loop.subprocess_exec(\n\u001b[32m    225\u001b[39m     protocol_factory,\n\u001b[32m    226\u001b[39m     program, *args,\n\u001b[32m    227\u001b[39m     stdin=stdin, stdout=stdout,\n\u001b[32m    228\u001b[39m     stderr=stderr, **kwds)\n\u001b[32m    229\u001b[39m \u001b[38;5;28;01mreturn\u001b[39;00m Process(transport, protocol, loop)\n",
      "\u001b[36mFile \u001b[39m\u001b[32m~\\anaconda3\\Lib\\asyncio\\base_events.py:1744\u001b[39m, in \u001b[36mBaseEventLoop.subprocess_exec\u001b[39m\u001b[34m(self, protocol_factory, program, stdin, stdout, stderr, universal_newlines, shell, bufsize, encoding, errors, text, *args, **kwargs)\u001b[39m\n\u001b[32m   1742\u001b[39m     debug_log = \u001b[33mf\u001b[39m\u001b[33m'\u001b[39m\u001b[33mexecute program \u001b[39m\u001b[38;5;132;01m{\u001b[39;00mprogram\u001b[38;5;132;01m!r}\u001b[39;00m\u001b[33m'\u001b[39m\n\u001b[32m   1743\u001b[39m     \u001b[38;5;28mself\u001b[39m._log_subprocess(debug_log, stdin, stdout, stderr)\n\u001b[32m-> \u001b[39m\u001b[32m1744\u001b[39m transport = \u001b[38;5;28;01mawait\u001b[39;00m \u001b[38;5;28mself\u001b[39m._make_subprocess_transport(\n\u001b[32m   1745\u001b[39m     protocol, popen_args, \u001b[38;5;28;01mFalse\u001b[39;00m, stdin, stdout, stderr,\n\u001b[32m   1746\u001b[39m     bufsize, **kwargs)\n\u001b[32m   1747\u001b[39m \u001b[38;5;28;01mif\u001b[39;00m \u001b[38;5;28mself\u001b[39m._debug \u001b[38;5;129;01mand\u001b[39;00m debug_log \u001b[38;5;129;01mis\u001b[39;00m \u001b[38;5;129;01mnot\u001b[39;00m \u001b[38;5;28;01mNone\u001b[39;00m:\n\u001b[32m   1748\u001b[39m     logger.info(\u001b[33m'\u001b[39m\u001b[38;5;132;01m%s\u001b[39;00m\u001b[33m: \u001b[39m\u001b[38;5;132;01m%r\u001b[39;00m\u001b[33m'\u001b[39m, debug_log, transport)\n",
      "\u001b[36mFile \u001b[39m\u001b[32m~\\anaconda3\\Lib\\asyncio\\base_events.py:524\u001b[39m, in \u001b[36mBaseEventLoop._make_subprocess_transport\u001b[39m\u001b[34m(self, protocol, args, shell, stdin, stdout, stderr, bufsize, extra, **kwargs)\u001b[39m\n\u001b[32m    520\u001b[39m \u001b[38;5;28;01masync\u001b[39;00m \u001b[38;5;28;01mdef\u001b[39;00m\u001b[38;5;250m \u001b[39m\u001b[34m_make_subprocess_transport\u001b[39m(\u001b[38;5;28mself\u001b[39m, protocol, args, shell,\n\u001b[32m    521\u001b[39m                                      stdin, stdout, stderr, bufsize,\n\u001b[32m    522\u001b[39m                                      extra=\u001b[38;5;28;01mNone\u001b[39;00m, **kwargs):\n\u001b[32m    523\u001b[39m \u001b[38;5;250m    \u001b[39m\u001b[33;03m\"\"\"Create subprocess transport.\"\"\"\u001b[39;00m\n\u001b[32m--> \u001b[39m\u001b[32m524\u001b[39m     \u001b[38;5;28;01mraise\u001b[39;00m \u001b[38;5;167;01mNotImplementedError\u001b[39;00m\n",
      "\u001b[31mNotImplementedError\u001b[39m: "
     ]
    }
   ],
   "source": [
    "alerts = asyncio.run(get_alerts_for_stop_async(\"Florida Station\"))\n",
    "for alert in alerts:\n",
    "    print(\"⚠️\", alert)\n"
   ]
  },
  {
   "cell_type": "markdown",
   "id": "dc662ab1",
   "metadata": {},
   "source": [
    "## 11.2 Generate reranked trips"
   ]
  },
  {
   "cell_type": "code",
   "execution_count": null,
   "id": "c3fbe566",
   "metadata": {},
   "outputs": [],
   "source": [
    "results, msg = plan_trip(\n",
    "    user_start=\"B\",\n",
    "    user_end=\"E\",\n",
    "    departure_time=user_time,\n",
    "    route_graph=graph,\n",
    "    weather=\"Rain\",\n",
    "    user_is_disabled=True\n",
    ")\n",
    "print(msg)\n"
   ]
  },
  {
   "cell_type": "markdown",
   "id": "cfe68e86",
   "metadata": {},
   "source": [
    "## 13.0 Show top trip options with summaries"
   ]
  },
  {
   "cell_type": "code",
   "execution_count": null,
   "id": "0f2b5432",
   "metadata": {},
   "outputs": [],
   "source": [
    "results[[\n",
    "    \"route_id\", \n",
    "    \"crowdedness_label\", \n",
    "    \"safety_score\",\n",
    "    \"weather\", \n",
    "    \"total_score\", \n",
    "    \"trip_summary\",\n",
    "    \"alert_summary\"\n",
    "]]"
   ]
  }
 ],
 "metadata": {
  "kernelspec": {
   "display_name": "venv",
   "language": "python",
   "name": "python3"
  },
  "language_info": {
   "codemirror_mode": {
    "name": "ipython",
    "version": 3
   },
   "file_extension": ".py",
   "mimetype": "text/x-python",
   "name": "python",
   "nbconvert_exporter": "python",
   "pygments_lexer": "ipython3",
   "version": "3.12.4"
  }
 },
 "nbformat": 4,
 "nbformat_minor": 5
}
