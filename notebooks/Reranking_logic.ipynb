{
 "cells": [
  {
   "cell_type": "markdown",
   "id": "450c331f",
   "metadata": {},
   "source": [
    "# Reranking file"
   ]
  },
  {
   "cell_type": "markdown",
   "id": "4a11d801",
   "metadata": {},
   "source": [
    "## Imports"
   ]
  },
  {
   "cell_type": "code",
   "execution_count": 1,
   "id": "20035a93",
   "metadata": {},
   "outputs": [],
   "source": [
    "import sys\n",
    "import os\n",
    "sys.path.append(os.path.abspath(\"..\"))  # Go up one directory to see src/\n",
    "\n",
    "import pandas as pd"
   ]
  },
  {
   "cell_type": "markdown",
   "id": "676fab3e",
   "metadata": {},
   "source": [
    "### Import files"
   ]
  },
  {
   "cell_type": "code",
   "execution_count": 2,
   "id": "e5e26be4",
   "metadata": {},
   "outputs": [],
   "source": [
    "from src.reranker import rerank_routes\n",
    "from src.route_finder import find_routes\n",
    "from src.crowd_predictor import load_model, predict_crowdedness\n"
   ]
  },
  {
   "cell_type": "markdown",
   "id": "dccc10f7",
   "metadata": {},
   "source": [
    "## Graph simulation of routes"
   ]
  },
  {
   "cell_type": "code",
   "execution_count": 15,
   "id": "85d01564",
   "metadata": {},
   "outputs": [],
   "source": [
    "graph = {\n",
    "    \"15L\": [\"A\",\"B\",\"C\",\"D\",\"E\"],\n",
    "    \"0\": [\"F\",\"C\",\"G\"],\n",
    "    \"1\": [\"H\",\"I\",\"J\",\"E\"],\n",
    "}"
   ]
  },
  {
   "cell_type": "markdown",
   "id": "e9144113",
   "metadata": {},
   "source": [
    "## Find routes"
   ]
  },
  {
   "cell_type": "code",
   "execution_count": 16,
   "id": "5fbb0501",
   "metadata": {},
   "outputs": [],
   "source": [
    "candidates = find_routes(\"B\",\"E\", graph)"
   ]
  },
  {
   "cell_type": "markdown",
   "id": "0620041e",
   "metadata": {},
   "source": [
    "## Mock crowd, delay, and safety scores"
   ]
  },
  {
   "cell_type": "code",
   "execution_count": 17,
   "id": "b70a379b",
   "metadata": {},
   "outputs": [],
   "source": [
    "for c in candidates:\n",
    "    c[\"walk_time\"] = 5\n",
    "    c[\"delay_minutes\"] = 4\n",
    "    c[\"crowdedness_score\"] = 30 # mock\n",
    "    c[\"safety_score\"] = 70 # mock"
   ]
  },
  {
   "cell_type": "markdown",
   "id": "1aa48308",
   "metadata": {},
   "source": [
    "## Turn into Data frame for reranking"
   ]
  },
  {
   "cell_type": "code",
   "execution_count": 18,
   "id": "818caae2",
   "metadata": {},
   "outputs": [],
   "source": [
    "df = pd.DataFrame(candidates)"
   ]
  },
  {
   "cell_type": "markdown",
   "id": "56940bab",
   "metadata": {},
   "source": [
    "## Score and sort the results"
   ]
  },
  {
   "cell_type": "code",
   "execution_count": 19,
   "id": "8722bc9a",
   "metadata": {},
   "outputs": [],
   "source": [
    "reranked = rerank_routes(df)"
   ]
  },
  {
   "cell_type": "markdown",
   "id": "14af514d",
   "metadata": {},
   "source": [
    "## Display"
   ]
  },
  {
   "cell_type": "code",
   "execution_count": 20,
   "id": "1669af62",
   "metadata": {},
   "outputs": [
    {
     "data": {
      "text/html": [
       "<div>\n",
       "<style scoped>\n",
       "    .dataframe tbody tr th:only-of-type {\n",
       "        vertical-align: middle;\n",
       "    }\n",
       "\n",
       "    .dataframe tbody tr th {\n",
       "        vertical-align: top;\n",
       "    }\n",
       "\n",
       "    .dataframe thead th {\n",
       "        text-align: right;\n",
       "    }\n",
       "</style>\n",
       "<table border=\"1\" class=\"dataframe\">\n",
       "  <thead>\n",
       "    <tr style=\"text-align: right;\">\n",
       "      <th></th>\n",
       "      <th>route_id</th>\n",
       "      <th>origin</th>\n",
       "      <th>destination</th>\n",
       "      <th>stops</th>\n",
       "      <th>bus_time</th>\n",
       "      <th>walk_time</th>\n",
       "      <th>delay_minutes</th>\n",
       "      <th>crowdedness_score</th>\n",
       "      <th>safety_score</th>\n",
       "      <th>total_score</th>\n",
       "    </tr>\n",
       "  </thead>\n",
       "  <tbody>\n",
       "    <tr>\n",
       "      <th>0</th>\n",
       "      <td>15L</td>\n",
       "      <td>B</td>\n",
       "      <td>E</td>\n",
       "      <td>[B, C, D, E]</td>\n",
       "      <td>12</td>\n",
       "      <td>5</td>\n",
       "      <td>4</td>\n",
       "      <td>30</td>\n",
       "      <td>70</td>\n",
       "      <td>18.5</td>\n",
       "    </tr>\n",
       "  </tbody>\n",
       "</table>\n",
       "</div>"
      ],
      "text/plain": [
       "  route_id origin destination         stops  bus_time  walk_time  \\\n",
       "0      15L      B           E  [B, C, D, E]        12          5   \n",
       "\n",
       "   delay_minutes  crowdedness_score  safety_score  total_score  \n",
       "0              4                 30            70         18.5  "
      ]
     },
     "metadata": {},
     "output_type": "display_data"
    }
   ],
   "source": [
    "display(reranked)"
   ]
  }
 ],
 "metadata": {
  "kernelspec": {
   "display_name": "venv",
   "language": "python",
   "name": "python3"
  },
  "language_info": {
   "codemirror_mode": {
    "name": "ipython",
    "version": 3
   },
   "file_extension": ".py",
   "mimetype": "text/x-python",
   "name": "python",
   "nbconvert_exporter": "python",
   "pygments_lexer": "ipython3",
   "version": "3.12.4"
  }
 },
 "nbformat": 4,
 "nbformat_minor": 5
}
