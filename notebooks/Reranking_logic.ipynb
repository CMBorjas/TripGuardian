{
 "cells": [
  {
   "cell_type": "markdown",
   "id": "450c331f",
   "metadata": {},
   "source": [
    "# Reranking file"
   ]
  },
  {
   "cell_type": "markdown",
   "id": "4a11d801",
   "metadata": {},
   "source": [
    "## Libray imports"
   ]
  },
  {
   "cell_type": "code",
   "execution_count": 31,
   "id": "20035a93",
   "metadata": {},
   "outputs": [],
   "source": [
    "import sys\n",
    "import os\n",
    "sys.path.append(os.path.abspath(\"..\"))  # Go up one directory to see src/\n",
    "from datetime import datetime\n",
    "import pandas as pd"
   ]
  },
  {
   "cell_type": "markdown",
   "id": "676fab3e",
   "metadata": {},
   "source": [
    "### Import files"
   ]
  },
  {
   "cell_type": "code",
   "execution_count": 32,
   "id": "e5e26be4",
   "metadata": {},
   "outputs": [],
   "source": [
    "from src.reranker import rerank_routes\n",
    "from src.route_finder import find_routes\n",
    "from src.crowd_predictor import load_model, predict_crowdedness\n",
    "from src.summarizer import generate_trip_summary\n",
    "from src.user_input_planner import plan_trip"
   ]
  },
  {
   "cell_type": "markdown",
   "id": "dccc10f7",
   "metadata": {},
   "source": [
    "## Graph simulation of routes"
   ]
  },
  {
   "cell_type": "code",
   "execution_count": 33,
   "id": "85d01564",
   "metadata": {},
   "outputs": [],
   "source": [
    "graph = {\n",
    "    \"15L\": [\"A\",\"B\",\"C\",\"D\",\"E\"],\n",
    "    \"0\": [\"F\",\"C\",\"G\"],\n",
    "    \"1\": [\"H\",\"I\",\"J\",\"E\"],\n",
    "}"
   ]
  },
  {
   "cell_type": "markdown",
   "id": "e9144113",
   "metadata": {},
   "source": [
    "## Find routes"
   ]
  },
  {
   "cell_type": "code",
   "execution_count": 34,
   "id": "5fbb0501",
   "metadata": {},
   "outputs": [],
   "source": [
    "candidates = find_routes(\"B\",\"E\", graph)"
   ]
  },
  {
   "cell_type": "markdown",
   "id": "0620041e",
   "metadata": {},
   "source": [
    "## Mock crowd, delay, and safety scores"
   ]
  },
  {
   "cell_type": "code",
   "execution_count": 35,
   "id": "b70a379b",
   "metadata": {},
   "outputs": [],
   "source": [
    "for c in candidates:\n",
    "    c[\"walk_time\"] = 5\n",
    "    c[\"delay_minutes\"] = 4\n",
    "    c[\"crowdedness_score\"] = 30 # mock\n",
    "    c[\"safety_score\"] = 70 # mock"
   ]
  },
  {
   "cell_type": "markdown",
   "id": "1aa48308",
   "metadata": {},
   "source": [
    "## Turn into Data frame for reranking"
   ]
  },
  {
   "cell_type": "code",
   "execution_count": 36,
   "id": "818caae2",
   "metadata": {},
   "outputs": [],
   "source": [
    "df = pd.DataFrame(candidates)"
   ]
  },
  {
   "cell_type": "markdown",
   "id": "56940bab",
   "metadata": {},
   "source": [
    "## Score and sort the results"
   ]
  },
  {
   "cell_type": "code",
   "execution_count": 37,
   "id": "8722bc9a",
   "metadata": {},
   "outputs": [],
   "source": [
    "reranked = rerank_routes(df)"
   ]
  },
  {
   "cell_type": "markdown",
   "id": "14af514d",
   "metadata": {},
   "source": [
    "## Display"
   ]
  },
  {
   "cell_type": "code",
   "execution_count": 38,
   "id": "1669af62",
   "metadata": {},
   "outputs": [
    {
     "data": {
      "text/html": [
       "<div>\n",
       "<style scoped>\n",
       "    .dataframe tbody tr th:only-of-type {\n",
       "        vertical-align: middle;\n",
       "    }\n",
       "\n",
       "    .dataframe tbody tr th {\n",
       "        vertical-align: top;\n",
       "    }\n",
       "\n",
       "    .dataframe thead th {\n",
       "        text-align: right;\n",
       "    }\n",
       "</style>\n",
       "<table border=\"1\" class=\"dataframe\">\n",
       "  <thead>\n",
       "    <tr style=\"text-align: right;\">\n",
       "      <th></th>\n",
       "      <th>route_id</th>\n",
       "      <th>origin</th>\n",
       "      <th>destination</th>\n",
       "      <th>stops</th>\n",
       "      <th>bus_time</th>\n",
       "      <th>walk_time</th>\n",
       "      <th>delay_minutes</th>\n",
       "      <th>crowdedness_score</th>\n",
       "      <th>safety_score</th>\n",
       "      <th>total_score</th>\n",
       "    </tr>\n",
       "  </thead>\n",
       "  <tbody>\n",
       "    <tr>\n",
       "      <th>0</th>\n",
       "      <td>15L</td>\n",
       "      <td>B</td>\n",
       "      <td>E</td>\n",
       "      <td>[B, C, D, E]</td>\n",
       "      <td>12</td>\n",
       "      <td>5</td>\n",
       "      <td>4</td>\n",
       "      <td>30</td>\n",
       "      <td>70</td>\n",
       "      <td>18.5</td>\n",
       "    </tr>\n",
       "  </tbody>\n",
       "</table>\n",
       "</div>"
      ],
      "text/plain": [
       "  route_id origin destination         stops  bus_time  walk_time  \\\n",
       "0      15L      B           E  [B, C, D, E]        12          5   \n",
       "\n",
       "   delay_minutes  crowdedness_score  safety_score  total_score  \n",
       "0              4                 30            70         18.5  "
      ]
     },
     "metadata": {},
     "output_type": "display_data"
    }
   ],
   "source": [
    "display(reranked)"
   ]
  },
  {
   "cell_type": "code",
   "execution_count": 39,
   "id": "a2eb75f4",
   "metadata": {},
   "outputs": [],
   "source": [
    "model = load_model(\"models/crowd_model.pkl\")"
   ]
  },
  {
   "cell_type": "markdown",
   "id": "9186005c",
   "metadata": {},
   "source": [
    "## Assume 'df' contains route_id, hour_of_day, day_of_week"
   ]
  },
  {
   "cell_type": "code",
   "execution_count": 40,
   "id": "1ba96730",
   "metadata": {},
   "outputs": [],
   "source": [
    "df[\"hour_of_day\"] = 17\n",
    "df[\"day_of_week\"] = \"Monday\""
   ]
  },
  {
   "cell_type": "markdown",
   "id": "efd6ea0c",
   "metadata": {},
   "source": [
    "## Predict crowdedness (returns 0==Low, 1==Medium, 2==High)"
   ]
  },
  {
   "cell_type": "code",
   "execution_count": 41,
   "id": "24a54128",
   "metadata": {},
   "outputs": [],
   "source": [
    "df[\"crowdedness_score\"] = predict_crowdedness(model, df)"
   ]
  },
  {
   "cell_type": "markdown",
   "id": "31ca26dc",
   "metadata": {},
   "source": [
    "### Optional: Convert back to readable labels"
   ]
  },
  {
   "cell_type": "code",
   "execution_count": 42,
   "id": "ca6241f7",
   "metadata": {},
   "outputs": [],
   "source": [
    "label_map = {0: \"Low\", 1: \"Medium\", 2: \"High\"}\n",
    "df[\"crowdedness_label\"] = df[\"crowdedness_score\"].map(label_map)"
   ]
  },
  {
   "cell_type": "markdown",
   "id": "794528cf",
   "metadata": {},
   "source": [
    "## Display top candidates"
   ]
  },
  {
   "cell_type": "code",
   "execution_count": 43,
   "id": "b0a97f18",
   "metadata": {},
   "outputs": [
    {
     "data": {
      "text/html": [
       "<div>\n",
       "<style scoped>\n",
       "    .dataframe tbody tr th:only-of-type {\n",
       "        vertical-align: middle;\n",
       "    }\n",
       "\n",
       "    .dataframe tbody tr th {\n",
       "        vertical-align: top;\n",
       "    }\n",
       "\n",
       "    .dataframe thead th {\n",
       "        text-align: right;\n",
       "    }\n",
       "</style>\n",
       "<table border=\"1\" class=\"dataframe\">\n",
       "  <thead>\n",
       "    <tr style=\"text-align: right;\">\n",
       "      <th></th>\n",
       "      <th>route_id</th>\n",
       "      <th>origin</th>\n",
       "      <th>destination</th>\n",
       "      <th>crowdedness_score</th>\n",
       "      <th>crowdedness_label</th>\n",
       "    </tr>\n",
       "  </thead>\n",
       "  <tbody>\n",
       "    <tr>\n",
       "      <th>0</th>\n",
       "      <td>15L</td>\n",
       "      <td>B</td>\n",
       "      <td>E</td>\n",
       "      <td>1</td>\n",
       "      <td>Medium</td>\n",
       "    </tr>\n",
       "  </tbody>\n",
       "</table>\n",
       "</div>"
      ],
      "text/plain": [
       "  route_id origin destination  crowdedness_score crowdedness_label\n",
       "0      15L      B           E                  1            Medium"
      ]
     },
     "metadata": {},
     "output_type": "display_data"
    }
   ],
   "source": [
    "display(df[[\"route_id\", \"origin\", \"destination\", \"crowdedness_score\", \"crowdedness_label\"]])"
   ]
  },
  {
   "cell_type": "markdown",
   "id": "00bf2cec",
   "metadata": {},
   "source": [
    "## Mock trip planner"
   ]
  },
  {
   "cell_type": "code",
   "execution_count": 44,
   "id": "7cca354a",
   "metadata": {},
   "outputs": [],
   "source": [
    "trip = {\n",
    "    \"walk_time\": 5,\n",
    "    \"route_id\": \"15L\",\n",
    "    \"stop_name_start\": \"Blake & 14th\",\n",
    "    \"stop_name_end\": \"Decatur Station\",\n",
    "    \"departure_time\": \"7:14 PM\",\n",
    "    \"arrival_time\": \"7:38 PM\",\n",
    "    \"destination\": \"840 Irving Street\"\n",
    "}"
   ]
  },
  {
   "cell_type": "markdown",
   "id": "d7caa04d",
   "metadata": {},
   "source": [
    "## Summarize the trip"
   ]
  },
  {
   "cell_type": "code",
   "execution_count": 45,
   "id": "1a19bfed",
   "metadata": {},
   "outputs": [
    {
     "name": "stdout",
     "output_type": "stream",
     "text": [
      "Walk 5 minutes to Blake & 14th. Take the 15L bus at 7:14 PM. Get off at Decatur Station. You’ll arrive at 840 Irving Street by 7:38 PM.\n"
     ]
    }
   ],
   "source": [
    "summary = generate_trip_summary(trip)\n",
    "print(summary)"
   ]
  },
  {
   "cell_type": "markdown",
   "id": "485a47a6",
   "metadata": {},
   "source": [
    "## User defined trip details"
   ]
  },
  {
   "cell_type": "code",
   "execution_count": 46,
   "id": "befba35c",
   "metadata": {},
   "outputs": [],
   "source": [
    "user_start = \"B\"\n",
    "user_end = \"E\"\n",
    "user_time = datetime.strptime(\"2025-04-16 17:00\", \"%Y-%m-%d %H:%M\")"
   ]
  },
  {
   "cell_type": "markdown",
   "id": "dc662ab1",
   "metadata": {},
   "source": [
    "## Generate reranked trips"
   ]
  },
  {
   "cell_type": "code",
   "execution_count": 47,
   "id": "c3fbe566",
   "metadata": {},
   "outputs": [
    {
     "ename": "ValueError",
     "evalue": "Invalid format string",
     "output_type": "error",
     "traceback": [
      "\u001b[31m---------------------------------------------------------------------------\u001b[39m",
      "\u001b[31mValueError\u001b[39m                                Traceback (most recent call last)",
      "\u001b[36mCell\u001b[39m\u001b[36m \u001b[39m\u001b[32mIn[47]\u001b[39m\u001b[32m, line 1\u001b[39m\n\u001b[32m----> \u001b[39m\u001b[32m1\u001b[39m results, msg = \u001b[43mplan_trip\u001b[49m\u001b[43m(\u001b[49m\u001b[43muser_start\u001b[49m\u001b[43m,\u001b[49m\u001b[43m \u001b[49m\u001b[43muser_end\u001b[49m\u001b[43m,\u001b[49m\u001b[43m \u001b[49m\u001b[43muser_time\u001b[49m\u001b[43m,\u001b[49m\u001b[43m \u001b[49m\u001b[43mgraph\u001b[49m\u001b[43m,\u001b[49m\u001b[43m \u001b[49m\u001b[43mweather\u001b[49m\u001b[43m=\u001b[49m\u001b[33;43m\"\u001b[39;49m\u001b[33;43mRainy\u001b[39;49m\u001b[33;43m\"\u001b[39;49m\u001b[43m)\u001b[49m\n\u001b[32m      2\u001b[39m \u001b[38;5;28mprint\u001b[39m(msg)\n",
      "\u001b[36mFile \u001b[39m\u001b[32mc:\\Users\\Christian\\Desktop\\TripGuardian\\src\\user_input_planner.py:39\u001b[39m, in \u001b[36mplan_trip\u001b[39m\u001b[34m(user_start, user_end, departure_time, route_graph, weather)\u001b[39m\n\u001b[32m     37\u001b[39m route[\u001b[33m\"\u001b[39m\u001b[33mstop_name_start\u001b[39m\u001b[33m\"\u001b[39m] = user_start\n\u001b[32m     38\u001b[39m route[\u001b[33m\"\u001b[39m\u001b[33mstop_name_end\u001b[39m\u001b[33m\"\u001b[39m] = user_end\n\u001b[32m---> \u001b[39m\u001b[32m39\u001b[39m route[\u001b[33m\"\u001b[39m\u001b[33mdeparture_time\u001b[39m\u001b[33m\"\u001b[39m] = \u001b[43mdeparture_time\u001b[49m\u001b[43m.\u001b[49m\u001b[43mstrftime\u001b[49m\u001b[43m(\u001b[49m\u001b[33;43m\"\u001b[39;49m\u001b[33;43m%\u001b[39;49m\u001b[33;43m-I:\u001b[39;49m\u001b[33;43m%\u001b[39;49m\u001b[33;43mM \u001b[39;49m\u001b[33;43m%\u001b[39;49m\u001b[33;43mp\u001b[39;49m\u001b[33;43m\"\u001b[39;49m\u001b[43m)\u001b[49m\n\u001b[32m     40\u001b[39m route[\u001b[33m\"\u001b[39m\u001b[33marrival_time\u001b[39m\u001b[33m\"\u001b[39m] = (departure_time.replace(minute=departure_time.minute + route[\u001b[33m\"\u001b[39m\u001b[33mbus_time\u001b[39m\u001b[33m\"\u001b[39m])).strftime(\u001b[33m\"\u001b[39m\u001b[33m%\u001b[39m\u001b[33m-I:\u001b[39m\u001b[33m%\u001b[39m\u001b[33mM \u001b[39m\u001b[33m%\u001b[39m\u001b[33mp\u001b[39m\u001b[33m\"\u001b[39m)\n\u001b[32m     41\u001b[39m route[\u001b[33m\"\u001b[39m\u001b[33mdestination\u001b[39m\u001b[33m\"\u001b[39m] = user_end\n",
      "\u001b[31mValueError\u001b[39m: Invalid format string"
     ]
    }
   ],
   "source": [
    "results, msg = plan_trip(user_start, user_end, user_time, graph, weather=\"Rainy\")\n",
    "print(msg)\n"
   ]
  },
  {
   "cell_type": "markdown",
   "id": "cfe68e86",
   "metadata": {},
   "source": [
    "## Show top trip options with summaries"
   ]
  },
  {
   "cell_type": "code",
   "execution_count": null,
   "id": "0f2b5432",
   "metadata": {},
   "outputs": [
    {
     "ename": "NameError",
     "evalue": "name 'results' is not defined",
     "output_type": "error",
     "traceback": [
      "\u001b[31m---------------------------------------------------------------------------\u001b[39m",
      "\u001b[31mNameError\u001b[39m                                 Traceback (most recent call last)",
      "\u001b[36mCell\u001b[39m\u001b[36m \u001b[39m\u001b[32mIn[27]\u001b[39m\u001b[32m, line 1\u001b[39m\n\u001b[32m----> \u001b[39m\u001b[32m1\u001b[39m \u001b[43mresults\u001b[49m[[\u001b[33m\"\u001b[39m\u001b[33mroute_id\u001b[39m\u001b[33m\"\u001b[39m, \u001b[33m\"\u001b[39m\u001b[33mcrowdedness_label\u001b[39m\u001b[33m\"\u001b[39m, \u001b[33m\"\u001b[39m\u001b[33mtotal_score\u001b[39m\u001b[33m\"\u001b[39m, \u001b[33m\"\u001b[39m\u001b[33mtrip_summary\u001b[39m\u001b[33m\"\u001b[39m]].head()\n",
      "\u001b[31mNameError\u001b[39m: name 'results' is not defined"
     ]
    }
   ],
   "source": [
    "results[[\"route_id\", \"crowdedness_label\", \"total_score\", \"trip_summary\"]].head()"
   ]
  }
 ],
 "metadata": {
  "kernelspec": {
   "display_name": "venv",
   "language": "python",
   "name": "python3"
  },
  "language_info": {
   "codemirror_mode": {
    "name": "ipython",
    "version": 3
   },
   "file_extension": ".py",
   "mimetype": "text/x-python",
   "name": "python",
   "nbconvert_exporter": "python",
   "pygments_lexer": "ipython3",
   "version": "3.12.4"
  }
 },
 "nbformat": 4,
 "nbformat_minor": 5
}
